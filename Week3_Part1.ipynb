## IBM Applied Data Science Capstone Course by Coursera
### Week 3 Part 1


#### Build a dataframe of the postal code of each neighborhood along with the borough name and neighborhood name in Toronto.
